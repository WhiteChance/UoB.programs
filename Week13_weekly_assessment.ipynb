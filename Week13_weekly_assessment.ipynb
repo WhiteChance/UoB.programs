{
 "cells": [
  {
   "cell_type": "markdown",
   "metadata": {
    "deletable": false,
    "editable": false,
    "nbgrader": {
     "cell_type": "markdown",
     "checksum": "fe5f70da5cf20374e6830a81c2a34a3a",
     "grade": false,
     "grade_id": "cell-cbf571d3d402cc94",
     "locked": true,
     "schema_version": 3,
     "solution": false,
     "task": false
    }
   },
   "source": [
    "# Week 13 - Weekly assessment"
   ]
  },
  {
   "cell_type": "markdown",
   "metadata": {
    "deletable": false,
    "editable": false,
    "nbgrader": {
     "cell_type": "markdown",
     "checksum": "24c200e08663d1f594474c06715c1393",
     "grade": false,
     "grade_id": "cell-995fc39897bb0628",
     "locked": true,
     "schema_version": 3,
     "solution": false,
     "task": false
    }
   },
   "source": [
    "## Using `pandas` to manipulate data"
   ]
  },
  {
   "cell_type": "markdown",
   "metadata": {
    "deletable": false,
    "editable": false,
    "nbgrader": {
     "cell_type": "markdown",
     "checksum": "0736aa86be16e725d9575a428936a834",
     "grade": false,
     "grade_id": "cell-e4317581b2895ad2",
     "locked": true,
     "points": 0,
     "schema_version": 3,
     "solution": false,
     "task": true
    }
   },
   "source": [
    "#### Assessment\n",
    "\n",
    "Using the topics covered within the workshops (or otherwise), complete the questions below to fill in the missing syntax."
   ]
  },
  {
   "cell_type": "markdown",
   "metadata": {},
   "source": [
    "---"
   ]
  },
  {
   "cell_type": "markdown",
   "metadata": {
    "deletable": false,
    "editable": false,
    "nbgrader": {
     "cell_type": "markdown",
     "checksum": "36b2a69daa6101965232691dc0eb32f6",
     "grade": false,
     "grade_id": "cell-6e422bb334e643f9",
     "locked": true,
     "schema_version": 3,
     "solution": false,
     "task": false
    }
   },
   "source": [
    "### Census data\n",
    "\n",
    "Below we define a mocked up table of census data for counties in Wales, United Kingdom. Each anonymised person is given an ID value and data is included for their \"age\", \"region\" and \"earnings\".\n",
    "\n",
    "This data is then converted into a pandas DataFrame called `census_data`, where the id values are used as the index. This DataFrame will be used for all the questions in this assessment."
   ]
  },
  {
   "cell_type": "code",
   "execution_count": 66,
   "metadata": {
    "deletable": false,
    "editable": false,
    "nbgrader": {
     "cell_type": "code",
     "checksum": "59eb800dba023ab5752b63e9ddddbba1",
     "grade": false,
     "grade_id": "cell-d463fe2c71faf83b",
     "locked": true,
     "schema_version": 3,
     "solution": false,
     "task": false
    }
   },
   "outputs": [],
   "source": [
    "# ID value for each person\n",
    "id_value = [\"00091\", \"00023\", \"00017\", \"00098\", \"00108\",\n",
    "            \"00100\", \"00003\", \"00097\", \"00065\", \"00071\", \n",
    "            \"00010\", \"00032\", \"00019\", \"00089\", \"00081\",\n",
    "            \"00001\", \"00030\", \"00079\", \"00056\", \"00018\"]\n",
    "\n",
    "# Region each person lives\n",
    "region = [\"Cardiff\", \"Blaenau Gwent\", \"Cardiff\", \"Swansea\", \"Newport\",\n",
    "          \"Conwy\", \"Cardiff\", \"Newport\", \"Swansea\", \"Gwynedd\",\n",
    "          \"Caerphilly\", \"Swansea\", \"Conwy\", \"Caerphilly\", \"Caerphilly\",\n",
    "          \"Newport\", \"Cardiff\", \"Cardiff\", \"Swansea\", \"Isle of Anglesey\"]\n",
    "\n",
    "# Age in years\n",
    "age = [29, 50, 37, 39, 21, \n",
    "       30, 40, 35, 44, 25,\n",
    "       29, 46, 23, 35, 21, \n",
    "       43, 42, 32, 37, 18]\n",
    "\n",
    "# Earnings in pounds (£) per year\n",
    "earnings = [20000, 55000, 45000, 29000, 18000,\n",
    "           20000, 26000, 20000, 21000, 25000,\n",
    "           25000, 27000, 21000, 45000, 21000, \n",
    "           28000, 25000, 25000, 23000, 16000]\n",
    "\n",
    "census_dict = {\"id\": id_value, \"region\": region, \"age\": age, \"earnings\": earnings}"
   ]
  },
  {
   "cell_type": "code",
   "execution_count": 67,
   "metadata": {
    "deletable": false,
    "editable": false,
    "nbgrader": {
     "cell_type": "code",
     "checksum": "76eed07ce722f69968407e232c232210",
     "grade": false,
     "grade_id": "cell-20412ad2420e1e43",
     "locked": true,
     "schema_version": 3,
     "solution": false,
     "task": false
    }
   },
   "outputs": [
    {
     "data": {
      "text/html": [
       "<div>\n",
       "<style scoped>\n",
       "    .dataframe tbody tr th:only-of-type {\n",
       "        vertical-align: middle;\n",
       "    }\n",
       "\n",
       "    .dataframe tbody tr th {\n",
       "        vertical-align: top;\n",
       "    }\n",
       "\n",
       "    .dataframe thead th {\n",
       "        text-align: right;\n",
       "    }\n",
       "</style>\n",
       "<table border=\"1\" class=\"dataframe\">\n",
       "  <thead>\n",
       "    <tr style=\"text-align: right;\">\n",
       "      <th></th>\n",
       "      <th>region</th>\n",
       "      <th>age</th>\n",
       "      <th>earnings</th>\n",
       "    </tr>\n",
       "    <tr>\n",
       "      <th>id</th>\n",
       "      <th></th>\n",
       "      <th></th>\n",
       "      <th></th>\n",
       "    </tr>\n",
       "  </thead>\n",
       "  <tbody>\n",
       "    <tr>\n",
       "      <th>00091</th>\n",
       "      <td>Cardiff</td>\n",
       "      <td>29</td>\n",
       "      <td>20000</td>\n",
       "    </tr>\n",
       "    <tr>\n",
       "      <th>00023</th>\n",
       "      <td>Blaenau Gwent</td>\n",
       "      <td>50</td>\n",
       "      <td>55000</td>\n",
       "    </tr>\n",
       "    <tr>\n",
       "      <th>00017</th>\n",
       "      <td>Cardiff</td>\n",
       "      <td>37</td>\n",
       "      <td>45000</td>\n",
       "    </tr>\n",
       "    <tr>\n",
       "      <th>00098</th>\n",
       "      <td>Swansea</td>\n",
       "      <td>39</td>\n",
       "      <td>29000</td>\n",
       "    </tr>\n",
       "    <tr>\n",
       "      <th>00108</th>\n",
       "      <td>Newport</td>\n",
       "      <td>21</td>\n",
       "      <td>18000</td>\n",
       "    </tr>\n",
       "    <tr>\n",
       "      <th>00100</th>\n",
       "      <td>Conwy</td>\n",
       "      <td>30</td>\n",
       "      <td>20000</td>\n",
       "    </tr>\n",
       "    <tr>\n",
       "      <th>00003</th>\n",
       "      <td>Cardiff</td>\n",
       "      <td>40</td>\n",
       "      <td>26000</td>\n",
       "    </tr>\n",
       "    <tr>\n",
       "      <th>00097</th>\n",
       "      <td>Newport</td>\n",
       "      <td>35</td>\n",
       "      <td>20000</td>\n",
       "    </tr>\n",
       "    <tr>\n",
       "      <th>00065</th>\n",
       "      <td>Swansea</td>\n",
       "      <td>44</td>\n",
       "      <td>21000</td>\n",
       "    </tr>\n",
       "    <tr>\n",
       "      <th>00071</th>\n",
       "      <td>Gwynedd</td>\n",
       "      <td>25</td>\n",
       "      <td>25000</td>\n",
       "    </tr>\n",
       "    <tr>\n",
       "      <th>00010</th>\n",
       "      <td>Caerphilly</td>\n",
       "      <td>29</td>\n",
       "      <td>25000</td>\n",
       "    </tr>\n",
       "    <tr>\n",
       "      <th>00032</th>\n",
       "      <td>Swansea</td>\n",
       "      <td>46</td>\n",
       "      <td>27000</td>\n",
       "    </tr>\n",
       "    <tr>\n",
       "      <th>00019</th>\n",
       "      <td>Conwy</td>\n",
       "      <td>23</td>\n",
       "      <td>21000</td>\n",
       "    </tr>\n",
       "    <tr>\n",
       "      <th>00089</th>\n",
       "      <td>Caerphilly</td>\n",
       "      <td>35</td>\n",
       "      <td>45000</td>\n",
       "    </tr>\n",
       "    <tr>\n",
       "      <th>00081</th>\n",
       "      <td>Caerphilly</td>\n",
       "      <td>21</td>\n",
       "      <td>21000</td>\n",
       "    </tr>\n",
       "    <tr>\n",
       "      <th>00001</th>\n",
       "      <td>Newport</td>\n",
       "      <td>43</td>\n",
       "      <td>28000</td>\n",
       "    </tr>\n",
       "    <tr>\n",
       "      <th>00030</th>\n",
       "      <td>Cardiff</td>\n",
       "      <td>42</td>\n",
       "      <td>25000</td>\n",
       "    </tr>\n",
       "    <tr>\n",
       "      <th>00079</th>\n",
       "      <td>Cardiff</td>\n",
       "      <td>32</td>\n",
       "      <td>25000</td>\n",
       "    </tr>\n",
       "    <tr>\n",
       "      <th>00056</th>\n",
       "      <td>Swansea</td>\n",
       "      <td>37</td>\n",
       "      <td>23000</td>\n",
       "    </tr>\n",
       "    <tr>\n",
       "      <th>00018</th>\n",
       "      <td>Isle of Anglesey</td>\n",
       "      <td>18</td>\n",
       "      <td>16000</td>\n",
       "    </tr>\n",
       "  </tbody>\n",
       "</table>\n",
       "</div>"
      ],
      "text/plain": [
       "                 region  age  earnings\n",
       "id                                    \n",
       "00091           Cardiff   29     20000\n",
       "00023     Blaenau Gwent   50     55000\n",
       "00017           Cardiff   37     45000\n",
       "00098           Swansea   39     29000\n",
       "00108           Newport   21     18000\n",
       "00100             Conwy   30     20000\n",
       "00003           Cardiff   40     26000\n",
       "00097           Newport   35     20000\n",
       "00065           Swansea   44     21000\n",
       "00071           Gwynedd   25     25000\n",
       "00010        Caerphilly   29     25000\n",
       "00032           Swansea   46     27000\n",
       "00019             Conwy   23     21000\n",
       "00089        Caerphilly   35     45000\n",
       "00081        Caerphilly   21     21000\n",
       "00001           Newport   43     28000\n",
       "00030           Cardiff   42     25000\n",
       "00079           Cardiff   32     25000\n",
       "00056           Swansea   37     23000\n",
       "00018  Isle of Anglesey   18     16000"
      ]
     },
     "execution_count": 67,
     "metadata": {},
     "output_type": "execute_result"
    }
   ],
   "source": [
    "import pandas as pd\n",
    "\n",
    "# Create a pandas DataFrame containing this census data\n",
    "census_data = pd.DataFrame(census_dict)\n",
    "census_data = census_data.set_index(\"id\")\n",
    "census_data"
   ]
  },
  {
   "cell_type": "markdown",
   "metadata": {},
   "source": [
    "---"
   ]
  },
  {
   "cell_type": "markdown",
   "metadata": {
    "deletable": false,
    "editable": false,
    "nbgrader": {
     "cell_type": "markdown",
     "checksum": "7d9c96a55c18fb5ce30db496b6655f96",
     "grade": false,
     "grade_id": "cell-e0065c379b40f612",
     "locked": true,
     "schema_version": 3,
     "solution": false,
     "task": false
    }
   },
   "source": [
    "### Questions\n",
    "\n",
    "Answer the following questions using the `census_data` DataFrame defined above. Each of Questions 1-5 are worth 1 mark. Question 6 asks you to copy code and fill in the gaps (worth 5 marks).\n",
    "\n",
    "Make sure to use the exact variables names requested within each question."
   ]
  },
  {
   "cell_type": "markdown",
   "metadata": {
    "deletable": false,
    "editable": false,
    "nbgrader": {
     "cell_type": "markdown",
     "checksum": "8581f671c9e9cd310c99adafcabf7625",
     "grade": false,
     "grade_id": "cell-786edbdfca1181c0",
     "locked": true,
     "schema_version": 3,
     "solution": false,
     "task": false
    }
   },
   "source": [
    "1) For the `census_data` DataFrame defined above, select the \"age\" column and save this as a variable called `age`."
   ]
  },
  {
   "cell_type": "code",
   "execution_count": 68,
   "metadata": {
    "deletable": false,
    "nbgrader": {
     "cell_type": "code",
     "checksum": "e6cd5250e8fac8c28a9aa542739f3975",
     "grade": false,
     "grade_id": "cell-d0a953abbc889f35",
     "locked": false,
     "schema_version": 3,
     "solution": true,
     "task": false
    }
   },
   "outputs": [],
   "source": [
    "# YOUR CODE HERE\n",
    "age = census_data[\"age\"]"
   ]
  },
  {
   "cell_type": "code",
   "execution_count": 69,
   "metadata": {
    "deletable": false,
    "editable": false,
    "nbgrader": {
     "cell_type": "code",
     "checksum": "1473c34e9ec24efdce7710cbf1aab7b6",
     "grade": true,
     "grade_id": "cell-1693997c974ce692",
     "locked": true,
     "points": 1,
     "schema_version": 3,
     "solution": false,
     "task": false
    }
   },
   "outputs": [],
   "source": [
    "assert len(age) == 20\n",
    "assert age.name == \"age\""
   ]
  },
  {
   "cell_type": "markdown",
   "metadata": {
    "deletable": false,
    "editable": false,
    "nbgrader": {
     "cell_type": "markdown",
     "checksum": "08635d7bd3a78fc415e9453c3c6bea0d",
     "grade": false,
     "grade_id": "cell-b676f98d4e617932",
     "locked": true,
     "schema_version": 3,
     "solution": false,
     "task": false
    }
   },
   "source": [
    "2) From the `census_data` DataFrame, select the row for the id_label value of \"00023\", storing this as a variable called `census_row`."
   ]
  },
  {
   "cell_type": "code",
   "execution_count": 70,
   "metadata": {
    "deletable": false,
    "nbgrader": {
     "cell_type": "code",
     "checksum": "40197b0cc71fada37a5447a258a27842",
     "grade": false,
     "grade_id": "cell-b617923fbdd01249",
     "locked": false,
     "schema_version": 3,
     "solution": true,
     "task": false
    }
   },
   "outputs": [],
   "source": [
    "id_label = \"00023\"\n",
    "\n",
    "# YOUR CODE HERE\n",
    "census_row = census_data.loc[\"00023\"]"
   ]
  },
  {
   "cell_type": "code",
   "execution_count": 71,
   "metadata": {
    "deletable": false,
    "editable": false,
    "nbgrader": {
     "cell_type": "code",
     "checksum": "621f0f554e5cda1b24f5ee55065f062f",
     "grade": true,
     "grade_id": "cell-68ddbc3a473ffd70",
     "locked": true,
     "points": 1,
     "schema_version": 3,
     "solution": false,
     "task": false
    }
   },
   "outputs": [],
   "source": [
    "assert len(census_row) == 3\n",
    "assert census_row[\"region\"] == \"Blaenau Gwent\""
   ]
  },
  {
   "cell_type": "markdown",
   "metadata": {
    "deletable": false,
    "editable": false,
    "nbgrader": {
     "cell_type": "markdown",
     "checksum": "b890457b98adaede154efc50394cb624",
     "grade": false,
     "grade_id": "cell-0d8d9475549b099b",
     "locked": true,
     "schema_version": 3,
     "solution": false,
     "task": false
    }
   },
   "source": [
    "3) Select the \"earnings\" column and convert this from earning per year to earning per week (assuming 52 weeks in a year). Save your output variable as `earnings_per_week`."
   ]
  },
  {
   "cell_type": "code",
   "execution_count": 72,
   "metadata": {
    "deletable": false,
    "nbgrader": {
     "cell_type": "code",
     "checksum": "1f1de4985a0c005e4aac9650522d9812",
     "grade": false,
     "grade_id": "cell-a1b4afc846cf3a06",
     "locked": false,
     "schema_version": 3,
     "solution": true,
     "task": false
    }
   },
   "outputs": [],
   "source": [
    "weeks_in_a_year = 52\n",
    " \n",
    "# YOUR CODE HERE\n",
    "\n",
    "# Here exists a contradiction between the question and the check block. \n",
    "# Since the question takes \"earnings_per_week\" as the variable name, but the check block uses \"earning_per_week\" instead.\n",
    "# Therefore, to meet the requirement of the qustion and pass the check, I define two variables here.\n",
    "earnings_per_week = (census_data[\"earnings\"] / weeks_in_a_year) \n",
    "earning_per_week = (census_data[\"earnings\"] / weeks_in_a_year) "
   ]
  },
  {
   "cell_type": "code",
   "execution_count": 73,
   "metadata": {
    "deletable": false,
    "editable": false,
    "nbgrader": {
     "cell_type": "code",
     "checksum": "6e6d59e3e022dc4d80a9d179ac58a634",
     "grade": true,
     "grade_id": "cell-0d45f47428e254cd",
     "locked": true,
     "points": 1,
     "schema_version": 3,
     "solution": false,
     "task": false
    }
   },
   "outputs": [],
   "source": [
    "import numpy as np\n",
    "assert len(earning_per_week) == 20\n",
    "assert np.isclose(earning_per_week.loc[\"00091\"], 384.615385)"
   ]
  },
  {
   "cell_type": "markdown",
   "metadata": {
    "deletable": false,
    "editable": false,
    "nbgrader": {
     "cell_type": "markdown",
     "checksum": "deb7f8810e9a6c80080fff9ee7da81a6",
     "grade": false,
     "grade_id": "cell-669811bc162fb388",
     "locked": true,
     "schema_version": 3,
     "solution": false,
     "task": false
    }
   },
   "source": [
    "4) Calculate the mean for the \"earnings\" column. Save your output variable as `average_earnings`."
   ]
  },
  {
   "cell_type": "code",
   "execution_count": 74,
   "metadata": {
    "deletable": false,
    "nbgrader": {
     "cell_type": "code",
     "checksum": "63d0110a7f33d0c600a11a641d71b06e",
     "grade": false,
     "grade_id": "cell-5e628da6073fe91c",
     "locked": false,
     "schema_version": 3,
     "solution": true,
     "task": false
    }
   },
   "outputs": [],
   "source": [
    "# YOUR CODE HERE\n",
    "average_earnings = census_data[\"earnings\"].mean()"
   ]
  },
  {
   "cell_type": "code",
   "execution_count": 75,
   "metadata": {
    "deletable": false,
    "editable": false,
    "nbgrader": {
     "cell_type": "code",
     "checksum": "f86b0d97881a6f18aba740cb8240ab2b",
     "grade": true,
     "grade_id": "cell-2c2013fa7c526628",
     "locked": true,
     "points": 1,
     "schema_version": 3,
     "solution": false,
     "task": false
    }
   },
   "outputs": [],
   "source": [
    "import numpy as np\n",
    "assert np.isclose(average_earnings, 26750.0)"
   ]
  },
  {
   "cell_type": "markdown",
   "metadata": {
    "deletable": false,
    "editable": false,
    "nbgrader": {
     "cell_type": "markdown",
     "checksum": "795d14b29d53b2925bb77902920c7cad",
     "grade": false,
     "grade_id": "cell-194fd45245dde47b",
     "locked": true,
     "schema_version": 3,
     "solution": false,
     "task": false
    }
   },
   "source": [
    "5) Filter the `census_data` to only include earnings greater than (>) 40000 pounds per year. Save your output to the variable `census_data_high_earnings`."
   ]
  },
  {
   "cell_type": "code",
   "execution_count": 76,
   "metadata": {
    "deletable": false,
    "nbgrader": {
     "cell_type": "code",
     "checksum": "843a46a24b4f075550ea2d3cbfe1329f",
     "grade": false,
     "grade_id": "cell-1138948055d1dfcd",
     "locked": false,
     "schema_version": 3,
     "solution": true,
     "task": false
    }
   },
   "outputs": [],
   "source": [
    "# YOUR CODE HERE\n",
    "filt_earning = census_data[\"earnings\"] > 40000\n",
    "census_data_high_earnings = census_data[filt_earning]"
   ]
  },
  {
   "cell_type": "code",
   "execution_count": 77,
   "metadata": {
    "deletable": false,
    "editable": false,
    "nbgrader": {
     "cell_type": "code",
     "checksum": "8f5cc2e06483c059f609a190e633517e",
     "grade": true,
     "grade_id": "cell-392e888d8927c633",
     "locked": true,
     "points": 1,
     "schema_version": 3,
     "solution": false,
     "task": false
    }
   },
   "outputs": [],
   "source": [
    "assert len(census_data_high_earnings) == 3\n",
    "assert census_data_high_earnings.loc[\"00017\"][\"age\"] == 37"
   ]
  },
  {
   "cell_type": "markdown",
   "metadata": {
    "deletable": false,
    "editable": false,
    "nbgrader": {
     "cell_type": "markdown",
     "checksum": "0d87e1d025085facc678da225844b40c",
     "grade": false,
     "grade_id": "cell-e60fc43b17d19130",
     "locked": true,
     "schema_version": 3,
     "solution": false,
     "task": false
    }
   },
   "source": [
    "### Questions (continued)\n",
    "\n",
    "We want to find out the difference between the average age of people living in the *Cardiff region* and the *Swansea region*, for the census data. Below you have been supplied with some code with gaps which can be used to do this.\n",
    "\n",
    "6) Update the details below to run this code to find the average age for each region and calculate the difference.\n",
    "\n",
    "**Replace #MISSING# (only) in code below to do this.**\n",
    "\n",
    "*You may add additional print statements, if this is helpful*\n",
    "\n",
    "(5 marks)"
   ]
  },
  {
   "cell_type": "markdown",
   "metadata": {
    "deletable": false,
    "editable": false,
    "nbgrader": {
     "cell_type": "markdown",
     "checksum": "f5de71d9db1af9eb884b57470928c024",
     "grade": false,
     "grade_id": "cell-0b7c0cc4c11102a0",
     "locked": true,
     "schema_version": 3,
     "solution": false,
     "task": false
    }
   },
   "source": [
    "``` python\n",
    "## ANSWER QUESTION USING THIS CODE\n",
    "\n",
    "# Select the region column from the census_data\n",
    "region = census_data#MISSING#\n",
    "\n",
    "# Filter the DataFrame to include rows where the region is \"Cardiff\", do the same for \"Swansea\"\n",
    "filt_cardiff = (region #MISSING# \"Cardiff\")\n",
    "census_cardiff = census_data[filt_cardiff]\n",
    "\n",
    "filt_swansea = (#MISSING#)\n",
    "census_swansea = census_data[filt_swansea]\n",
    "\n",
    "# Select the age columns from each subset and find the average\n",
    "age_cardiff = census_cardiff#MISSING#\n",
    "average_age_cardiff = age_cardiff#MISSING#\n",
    "\n",
    "age_swansea = #MISSING#\n",
    "average_age_swansea = #MISSING#\n",
    "\n",
    "# Calculate the difference between average ages in the two districts\n",
    "age_difference_district = average_age_swansea - average_age_cardiff\n",
    "\n",
    "print(\"From our small sample of data:\")\n",
    "print(f\" The average age in Cardiff is: {average_age_cardiff} years\")\n",
    "print(f\" The average age in Swansea is: {average_age_swansea} years\")\n",
    "print(f\" This is a difference of {age_difference_district} years.\")\n",
    "```"
   ]
  },
  {
   "cell_type": "markdown",
   "metadata": {
    "deletable": false,
    "editable": false,
    "nbgrader": {
     "cell_type": "markdown",
     "checksum": "81f00f6769a62d6c2947a9f8f8f62bd9",
     "grade": false,
     "grade_id": "cell-3fb4420aff2b74af",
     "locked": true,
     "schema_version": 3,
     "solution": false,
     "task": false
    }
   },
   "source": [
    "Copy this code to the cell below and update. Replace #MISSING# (only) in this code."
   ]
  },
  {
   "cell_type": "code",
   "execution_count": 78,
   "metadata": {
    "deletable": false,
    "nbgrader": {
     "cell_type": "code",
     "checksum": "a3c4d30353a9df2daef6f0542a2f9ee2",
     "grade": false,
     "grade_id": "cell-8b8c0e9f012bb735",
     "locked": false,
     "schema_version": 3,
     "solution": true,
     "task": false
    }
   },
   "outputs": [
    {
     "name": "stdout",
     "output_type": "stream",
     "text": [
      "From our small sample of data:\n",
      " The average age in Cardiff is: 36.0 years\n",
      " The average age in Swansea is: 41.5 years\n",
      " This is a difference of 5.5 years.\n"
     ]
    }
   ],
   "source": [
    "# YOUR CODE HERE\n",
    "\n",
    "# Select the region column from the census_data\n",
    "region = census_data[\"region\"]\n",
    "\n",
    "# Filter the DataFrame to include rows where the region is \"Cardiff\", do the same for \"Swansea\"\n",
    "filt_cardiff = (region == \"Cardiff\")\n",
    "census_cardiff = census_data[filt_cardiff]\n",
    "\n",
    "filt_swansea = (region == \"Swansea\")\n",
    "census_swansea = census_data[filt_swansea]\n",
    "\n",
    "\n",
    "# # Select the age columns from each subset and find the average\n",
    "age_cardiff = census_cardiff[\"age\"]\n",
    "average_age_cardiff = age_cardiff.mean()\n",
    "\n",
    "age_swansea = census_swansea[\"age\"]\n",
    "average_age_swansea = age_swansea.mean()\n",
    "\n",
    "# Calculate the difference between average ages in the two districts\n",
    "age_difference_district = average_age_swansea - average_age_cardiff\n",
    "\n",
    "print(\"From our small sample of data:\")\n",
    "print(f\" The average age in Cardiff is: {average_age_cardiff} years\")\n",
    "print(f\" The average age in Swansea is: {average_age_swansea} years\")\n",
    "print(f\" This is a difference of {age_difference_district} years.\")"
   ]
  },
  {
   "cell_type": "code",
   "execution_count": 79,
   "metadata": {
    "deletable": false,
    "editable": false,
    "nbgrader": {
     "cell_type": "code",
     "checksum": "28af91afe8dac0ed89f2f4df32af42fc",
     "grade": true,
     "grade_id": "cell-06d4eaaa38af9374",
     "locked": true,
     "points": 1,
     "schema_version": 3,
     "solution": false,
     "task": false
    }
   },
   "outputs": [],
   "source": [
    "assert len(region) == 20\n",
    "assert region.name == \"region\""
   ]
  },
  {
   "cell_type": "code",
   "execution_count": 80,
   "metadata": {
    "deletable": false,
    "editable": false,
    "nbgrader": {
     "cell_type": "code",
     "checksum": "a3c3a6d6bed270cf0ee6b62b2b53b35d",
     "grade": true,
     "grade_id": "cell-458ef36e11dd0e4a",
     "locked": true,
     "points": 1,
     "schema_version": 3,
     "solution": false,
     "task": false
    }
   },
   "outputs": [],
   "source": [
    "assert len(census_cardiff) == 5"
   ]
  },
  {
   "cell_type": "code",
   "execution_count": null,
   "metadata": {
    "deletable": false,
    "editable": false,
    "nbgrader": {
     "cell_type": "code",
     "checksum": "9313a204950cfc6660ce450fbca573ac",
     "grade": true,
     "grade_id": "cell-080ccc27a068f2c7",
     "locked": true,
     "points": 1,
     "schema_version": 3,
     "solution": false,
     "task": false
    }
   },
   "outputs": [],
   "source": []
  },
  {
   "cell_type": "code",
   "execution_count": null,
   "metadata": {
    "deletable": false,
    "editable": false,
    "nbgrader": {
     "cell_type": "code",
     "checksum": "1a91204c6b872bdaee512859c61baf46",
     "grade": true,
     "grade_id": "cell-ddc43b657bf08978",
     "locked": true,
     "points": 2,
     "schema_version": 3,
     "solution": false,
     "task": false
    }
   },
   "outputs": [],
   "source": []
  },
  {
   "cell_type": "markdown",
   "metadata": {},
   "source": [
    "---"
   ]
  }
 ],
 "metadata": {
  "kernelspec": {
   "display_name": "Python 3 (ipykernel)",
   "language": "python",
   "name": "python3"
  },
  "language_info": {
   "codemirror_mode": {
    "name": "ipython",
    "version": 3
   },
   "file_extension": ".py",
   "mimetype": "text/x-python",
   "name": "python",
   "nbconvert_exporter": "python",
   "pygments_lexer": "ipython3",
   "version": "3.9.12"
  }
 },
 "nbformat": 4,
 "nbformat_minor": 4
}
